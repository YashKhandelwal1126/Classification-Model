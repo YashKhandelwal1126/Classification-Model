{
  "nbformat": 4,
  "nbformat_minor": 0,
  "metadata": {
    "colab": {
      "name": "HW6_Khandelwal_Yash.ipynb",
      "provenance": [],
      "collapsed_sections": [],
      "toc_visible": true
    },
    "kernelspec": {
      "name": "python3",
      "display_name": "Python 3"
    },
    "language_info": {
      "name": "python"
    }
  },
  "cells": [
    {
      "cell_type": "markdown",
      "metadata": {
        "id": "gJL_nLkdHYDy"
      },
      "source": [
        "# Homework 6 (30 marks)\n",
        "Create a copy of the notebook to start answering the questions. Name your notebook in the format HW6_lastname_firstname.ipynb to facilitate the grading process.\n",
        "\n",
        "Answer all the questions, test your code to ensure there are no errors and the results are as expected. Once you have answered all the questions, save the final copy, then go to File-> click on Download.ipynb. Once the local copy has been downloaded, submit your file on Blackboard under the corresponding assignment section. Also provide us a link to your notebook during submission.\n",
        "\n",
        "NOTE: Please give the TAs the permission to access your notebooks through the links you have provided during submission.\n",
        "\n",
        "The due date of this homework is 04/09/2021 (Friday).\n",
        "\n",
        "Please ensure you follow all the steps mentioned in the homework.\n",
        "\n",
        "You can submit your solutions any number of times until the deadline.\n",
        "\n",
        "The datasets used in this homework can be found in the google drive link below -\n",
        "\n",
        "https://drive.google.com/drive/folders/1NxCh4X7u7wVo5aHojxjLNs9wC7B7zJhb?usp=sharing\n",
        "\n",
        "Follow the necessary steps to import data to test your code. You can use any method to read your data in the notebook. We will not be grading the methods you use. We will only grade the code from the point where you read the dataset into a pandas dataframe - (pd.read_csv('file_name'))"
      ]
    },
    {
      "cell_type": "markdown",
      "metadata": {
        "id": "Zp3D8wIOH4bR"
      },
      "source": [
        "Import all the libraries you require in the cell below.\n",
        "\n"
      ]
    },
    {
      "cell_type": "code",
      "metadata": {
        "id": "72EyvzqAH6G_"
      },
      "source": [
        "# Enter your code here\n",
        "import pandas as pd\n",
        "from sklearn.model_selection import train_test_split\n",
        "from sklearn.tree import DecisionTreeClassifier\n",
        "from sklearn import metrics\n",
        "import matplotlib.pyplot as plt\n",
        "from sklearn import tree\n",
        "import numpy as np\n"
      ],
      "execution_count": 1,
      "outputs": []
    },
    {
      "cell_type": "markdown",
      "metadata": {
        "id": "TxCnZ-n3H0Wd"
      },
      "source": [
        "### 1. Build a classification model that predicts the edibility of mushrooms (class variable in the dataset). You have been provide with a dataset as a mushrooms.csv file. \n",
        "Here is a description of the attributes\n"
      ]
    },
    {
      "cell_type": "markdown",
      "metadata": {
        "id": "2WX2OwgOIHMd"
      },
      "source": [
        "Attribute description:\n",
        "1. cap-shape: bell=b,conical=c,convex=x,flat=f, knobbed=k,sunken=s \n",
        "2. cap-surface: fibrous=f,grooves=g,scaly=y,smooth=s \n",
        "3. cap-color: brown=n,buff=b,cinnamon=c,gray=g,green=r, pink=p,purple=u,red=e,white=w,yellow=y \n",
        "4. bruises?: bruises=t,no=f \n",
        "5. odor: almond=a,anise=l,creosote=c,fishy=y,foul=f, musty=m,none=n,pungent=p,spicy=s \n",
        "6. gill-attachment: attached=a,descending=d,free=f,notched=n \n",
        "7. gill-spacing: close=c,crowded=w,distant=d \n",
        "8. gill-size: broad=b,narrow=n \n",
        "9. gill-color: black=k,brown=n,buff=b,chocolate=h,gray=g, green=r,orange=o,pink=p,purple=u,red=e, white=w,yellow=y \n",
        "10. stalk-shape: enlarging=e,tapering=t \n",
        "11. stalk-root: bulbous=b,club=c,cup=u,equal=e, rhizomorphs=z,rooted=r,missing=? \n",
        "12. stalk-surface-above-ring: fibrous=f,scaly=y,silky=k,smooth=s \n",
        "13. stalk-surface-below-ring: fibrous=f,scaly=y,silky=k,smooth=s \n",
        "14. stalk-color-above-ring: brown=n,buff=b,cinnamon=c,gray=g,orange=o, pink=p,red=e,white=w,yellow=y \n",
        "15. stalk-color-below-ring: brown=n,buff=b,cinnamon=c,gray=g,orange=o, pink=p,red=e,white=w,yellow=y \n",
        "16. veil-type: partial=p,universal=u \n",
        "17. veil-color: brown=n,orange=o,white=w,yellow=y \n",
        "18. ring-number: none=n,one=o,two=t \n",
        "19. ring-type: cobwebby=c,evanescent=e,flaring=f,large=l, none=n,pendant=p,sheathing=s,zone=z \n",
        "20. spore-print-color: black=k,brown=n,buff=b,chocolate=h,green=r, orange=o,purple=u,white=w,yellow=y \n",
        "21. population: abundant=a,clustered=c,numerous=n, scattered=s,several=v,solitary=y \n",
        "22. habitat: grasses=g,leaves=l,meadows=m,paths=p, urban=u,waste=w,woods=d\n",
        "23. class: p = poisonous, e=edible\n"
      ]
    },
    {
      "cell_type": "markdown",
      "metadata": {
        "id": "LJeXdQymILSv"
      },
      "source": [
        "1. Build a classification tree. Random_state =2020. Training partition 0.7. stratify = y, max_depth = 6, use Entropy (8 marks)\n",
        "\n",
        "A. Read the dataset, explore it and determine what is the dependent variable (1 mark)\n",
        "\n",
        "B. Store the feature and target variable. (2 marks)\n",
        "\n",
        "C. Convert all categorical variables into dummy variables (1 mark)\n",
        "\n",
        "D. Partition the data into training and test sets (70/30) (1 mark)\n",
        "\n",
        "E. Fit the training data to a classification tree. (3 marks)"
      ]
    },
    {
      "cell_type": "code",
      "metadata": {
        "id": "Eme32RA0IKoR",
        "colab": {
          "base_uri": "https://localhost:8080/"
        },
        "outputId": "ea762bd7-a902-4528-c022-1366e821edf5"
      },
      "source": [
        "# Enter your code here\n",
        "\n",
        "mushroomDF = pd.read_csv('mushrooms.csv')\n",
        "print(mushroomDF)\n",
        "\n",
        "# Explore the data\n",
        "\n",
        "print(mushroomDF.head())\n",
        "print(mushroomDF.shape)\n",
        "print(mushroomDF.columns.values)\n",
        "\n",
        "# Check for missing values\n",
        "print(mushroomDF.isnull().sum())\n",
        "\n",
        "# the dependent variable is Class\n",
        "\n",
        "# converting all categorical variables into dummy variables\n",
        "\n",
        "df = pd.get_dummies(mushroomDF, columns=['cap-shape', 'cap-surface', 'cap-color', 'bruises', 'odor',\n",
        " 'gill-attachment', 'gill-spacing', 'gill-size', 'gill-color', 'stalk-shape',\n",
        " 'stalk-root', 'stalk-surface-above-ring', 'stalk-surface-below-ring',\n",
        " 'stalk-color-above-ring', 'stalk-color-below-ring', 'veil-type',\n",
        " 'veil-color', 'ring-number', 'ring-type', 'spore-print-color', 'population',\n",
        " 'habitat'])\n",
        "print(df.head())\n",
        "\n",
        "feature_columns = ['cap-shape', 'cap-surface', 'cap-color', 'bruises', 'odor',\n",
        " 'gill-attachment', 'gill-spacing', 'gill-size', 'gill-color', 'stalk-shape',\n",
        " 'stalk-root', 'stalk-surface-above-ring', 'stalk-surface-below-ring',\n",
        " 'stalk-color-above-ring', 'stalk-color-below-ring', 'veil-type',\n",
        " 'veil-color', 'ring-number', 'ring-type', 'spore-print-color', 'population',\n",
        " 'habitat']\n",
        "\n",
        "# partition the data into training and test sets\n",
        "\n",
        "X = df.iloc[:, 1:]\n",
        "y = df.iloc[:, 0]\n",
        "\n",
        "#x=mushroomDF[feature_columns]\n",
        "#y=mushroomDF['class']\n",
        "\n",
        "X_train, X_test, y_train, y_test = train_test_split(X, y, test_size=0.3, random_state=2020, stratify=y)\n",
        "\n",
        "print(X_train.shape)\n",
        "print(y_train.shape)\n",
        "print(X_test.shape)\n",
        "print(y_test.shape)\n",
        "\n",
        "# Fit the training data to a classification tree\n",
        "\n",
        "dt = DecisionTreeClassifier(max_depth=6, criterion='entropy', random_state=2020)\n",
        "dt.fit(X_train, y_train)\n"
      ],
      "execution_count": 2,
      "outputs": [
        {
          "output_type": "stream",
          "text": [
            "     class cap-shape cap-surface  ... spore-print-color population habitat\n",
            "0        p         x           s  ...                 k          s       u\n",
            "1        e         x           s  ...                 n          n       g\n",
            "2        e         b           s  ...                 n          n       m\n",
            "3        p         x           y  ...                 k          s       u\n",
            "4        e         x           s  ...                 n          a       g\n",
            "...    ...       ...         ...  ...               ...        ...     ...\n",
            "8119     e         k           s  ...                 b          c       l\n",
            "8120     e         x           s  ...                 b          v       l\n",
            "8121     e         f           s  ...                 b          c       l\n",
            "8122     p         k           y  ...                 w          v       l\n",
            "8123     e         x           s  ...                 o          c       l\n",
            "\n",
            "[8124 rows x 23 columns]\n",
            "  class cap-shape cap-surface  ... spore-print-color population habitat\n",
            "0     p         x           s  ...                 k          s       u\n",
            "1     e         x           s  ...                 n          n       g\n",
            "2     e         b           s  ...                 n          n       m\n",
            "3     p         x           y  ...                 k          s       u\n",
            "4     e         x           s  ...                 n          a       g\n",
            "\n",
            "[5 rows x 23 columns]\n",
            "(8124, 23)\n",
            "['class' 'cap-shape' 'cap-surface' 'cap-color' 'bruises' 'odor'\n",
            " 'gill-attachment' 'gill-spacing' 'gill-size' 'gill-color' 'stalk-shape'\n",
            " 'stalk-root' 'stalk-surface-above-ring' 'stalk-surface-below-ring'\n",
            " 'stalk-color-above-ring' 'stalk-color-below-ring' 'veil-type'\n",
            " 'veil-color' 'ring-number' 'ring-type' 'spore-print-color' 'population'\n",
            " 'habitat']\n",
            "class                       0\n",
            "cap-shape                   0\n",
            "cap-surface                 0\n",
            "cap-color                   0\n",
            "bruises                     0\n",
            "odor                        0\n",
            "gill-attachment             0\n",
            "gill-spacing                0\n",
            "gill-size                   0\n",
            "gill-color                  0\n",
            "stalk-shape                 0\n",
            "stalk-root                  0\n",
            "stalk-surface-above-ring    0\n",
            "stalk-surface-below-ring    0\n",
            "stalk-color-above-ring      0\n",
            "stalk-color-below-ring      0\n",
            "veil-type                   0\n",
            "veil-color                  0\n",
            "ring-number                 0\n",
            "ring-type                   0\n",
            "spore-print-color           0\n",
            "population                  0\n",
            "habitat                     0\n",
            "dtype: int64\n",
            "  class  cap-shape_b  cap-shape_c  ...  habitat_p  habitat_u  habitat_w\n",
            "0     p            0            0  ...          0          1          0\n",
            "1     e            0            0  ...          0          0          0\n",
            "2     e            1            0  ...          0          0          0\n",
            "3     p            0            0  ...          0          1          0\n",
            "4     e            0            0  ...          0          0          0\n",
            "\n",
            "[5 rows x 118 columns]\n",
            "(5686, 117)\n",
            "(5686,)\n",
            "(2438, 117)\n",
            "(2438,)\n"
          ],
          "name": "stdout"
        },
        {
          "output_type": "execute_result",
          "data": {
            "text/plain": [
              "DecisionTreeClassifier(ccp_alpha=0.0, class_weight=None, criterion='entropy',\n",
              "                       max_depth=6, max_features=None, max_leaf_nodes=None,\n",
              "                       min_impurity_decrease=0.0, min_impurity_split=None,\n",
              "                       min_samples_leaf=1, min_samples_split=2,\n",
              "                       min_weight_fraction_leaf=0.0, presort='deprecated',\n",
              "                       random_state=2020, splitter='best')"
            ]
          },
          "metadata": {
            "tags": []
          },
          "execution_count": 2
        }
      ]
    },
    {
      "cell_type": "markdown",
      "metadata": {
        "id": "YB-2YFsOIUah"
      },
      "source": [
        "2. Print the confusion matrix. \n",
        "Also visualize the confusion matrix using plot_confusion_matrix from sklearn.metrics (3 marks)\n",
        "\n"
      ]
    },
    {
      "cell_type": "code",
      "metadata": {
        "id": "VFwyLKzcRjyY",
        "colab": {
          "base_uri": "https://localhost:8080/",
          "height": 313
        },
        "outputId": "61a33dbb-8128-4162-f0bb-0b127614eb56"
      },
      "source": [
        "# Enter your code here\n",
        "\n",
        "y_pred = dt.predict(X_test)\n",
        "\n",
        "matrix = metrics.confusion_matrix(y_test, y_pred)\n",
        "print(matrix)\n",
        "metrics.plot_confusion_matrix(dt, X_test, y_test)\n",
        "plt.show()\n"
      ],
      "execution_count": 3,
      "outputs": [
        {
          "output_type": "stream",
          "text": [
            "[[1263    0]\n",
            " [   3 1172]]\n"
          ],
          "name": "stdout"
        },
        {
          "output_type": "display_data",
          "data": {
            "image/png": "[encoded data removed]",
            "text/plain": [
              "<Figure size 432x288 with 2 Axes>"
            ]
          },
          "metadata": {
            "tags": [],
            "needs_background": "light"
          }
        }
      ]
    },
    {
      "cell_type": "markdown",
      "metadata": {
        "id": "yhdyvv48JFFd"
      },
      "source": [
        "3. Print the accuracy on the training partition?  (2 marks)\n"
      ]
    },
    {
      "cell_type": "code",
      "metadata": {
        "id": "WeQ9cOluRrL2",
        "colab": {
          "base_uri": "https://localhost:8080/"
        },
        "outputId": "0f840b22-289b-4254-f30e-b85554a79029"
      },
      "source": [
        "# Enter your code here\n",
        "training_predict = dt.predict(X_train)\n",
        "print(metrics.accuracy_score(training_predict, y_train))"
      ],
      "execution_count": null,
      "outputs": [
        {
          "output_type": "stream",
          "text": [
            "1.0\n"
          ],
          "name": "stdout"
        }
      ]
    },
    {
      "cell_type": "markdown",
      "metadata": {
        "id": "_aH9TPFSJGv_"
      },
      "source": [
        "4. Print the accuracy on the test partition? (2 marks)\n"
      ]
    },
    {
      "cell_type": "code",
      "metadata": {
        "id": "U4eEWJCvRwSn",
        "colab": {
          "base_uri": "https://localhost:8080/"
        },
        "outputId": "56c4d9b6-8929-45cb-ca57-e0c16c45ca84"
      },
      "source": [
        "# Enter your code here\n",
        "print(metrics.accuracy_score(y_pred, y_test))"
      ],
      "execution_count": null,
      "outputs": [
        {
          "output_type": "stream",
          "text": [
            "0.9987694831829368\n"
          ],
          "name": "stdout"
        }
      ]
    },
    {
      "cell_type": "markdown",
      "metadata": {
        "id": "_cWbOP-3JIE0"
      },
      "source": [
        "5. Show the classification tree and save it (5 marks)\n"
      ]
    },
    {
      "cell_type": "code",
      "metadata": {
        "id": "LRuYQCeNR1Dn",
        "colab": {
          "base_uri": "https://localhost:8080/",
          "height": 683
        },
        "outputId": "982f6c2a-a71f-4661-85b2-69f865d50b58"
      },
      "source": [
        "# Enter your code here\n",
        "\n",
        "plt.figure(figsize=(12,12))\n",
        "fn = X.columns\n",
        "cn = y.unique()\n",
        "mushroomTree = tree.plot_tree(dt, feature_names = fn, class_names=cn, filled=True)\n",
        "plt.savefig('mushroomTree.png')\n",
        "plt.show()"
      ],
      "execution_count": null,
      "outputs": [
        {
          "output_type": "display_data",
          "data": {
            "image/png": "[encoded data removed]",
            "text/plain": [
              "<Figure size 864x864 with 1 Axes>"
            ]
          },
          "metadata": {
            "tags": [],
            "needs_background": "light"
          }
        }
      ]
    },
    {
      "cell_type": "markdown",
      "metadata": {
        "id": "a3fM0HMSJJl8"
      },
      "source": [
        "6. Find and print the top three most important features in your decision tree for determining toxicity. (4 marks)"
      ]
    },
    {
      "cell_type": "code",
      "metadata": {
        "id": "qTkc8ga1R6kd",
        "colab": {
          "base_uri": "https://localhost:8080/"
        },
        "outputId": "84afa2d4-1730-488c-d947-00aa5d32ddc4"
      },
      "source": [
        "# Enter your code here\n",
        "print('feature importance:', dt.feature_importances_ )\n",
        "importance = pd.DataFrame(zip(X_train.columns, dt.feature_importances_))\n",
        "#importance.nlargest(3, np.where(df.index==1))\n",
        "print(importance.nlargest(3, columns=[1]))"
      ],
      "execution_count": 32,
      "outputs": [
        {
          "output_type": "stream",
          "text": [
            "feature importance: [0.         0.00222887 0.         0.         0.         0.\n",
            " 0.         0.00527896 0.         0.         0.         0.\n",
            " 0.         0.         0.         0.         0.         0.\n",
            " 0.         0.         0.         0.21269464 0.         0.\n",
            " 0.         0.         0.         0.5278987  0.         0.\n",
            " 0.         0.         0.         0.         0.         0.\n",
            " 0.         0.         0.         0.         0.         0.\n",
            " 0.         0.         0.         0.         0.         0.\n",
            " 0.         0.         0.         0.         0.00540188 0.06737296\n",
            " 0.         0.04806723 0.         0.         0.         0.\n",
            " 0.         0.         0.         0.02812073 0.         0.\n",
            " 0.         0.         0.         0.         0.         0.\n",
            " 0.         0.         0.         0.         0.         0.\n",
            " 0.         0.         0.         0.         0.         0.\n",
            " 0.         0.         0.         0.         0.         0.\n",
            " 0.         0.         0.         0.         0.         0.\n",
            " 0.         0.         0.         0.         0.05723208 0.\n",
            " 0.         0.         0.         0.         0.         0.\n",
            " 0.         0.         0.04570394 0.         0.         0.\n",
            " 0.         0.         0.        ]\n",
            "               0         1\n",
            "27        odor_n  0.527899\n",
            "21     bruises_t  0.212695\n",
            "53  stalk-root_c  0.067373\n"
          ],
          "name": "stdout"
        }
      ]
    },
    {
      "cell_type": "markdown",
      "metadata": {
        "id": "uye7JohHJQmN"
      },
      "source": [
        "7. Classify the following mushroom. (6 marks)\n",
        "\n",
        "class\n",
        " : **?**\n",
        "\n",
        "cap-shape\n",
        ": **x**\n",
        "\n",
        "cap-surface\n",
        ": **s**\n",
        "\n",
        "cap-color\n",
        ": **n**\n",
        "\n",
        "bruises\n",
        ": **t**\n",
        "\n",
        "odor\n",
        ": **y**\n",
        "\n",
        "gill-attachment\n",
        ": **f**\n",
        "\n",
        "gill-spacing\n",
        ": **c**\n",
        "\n",
        "gill-size\n",
        ": **n**\n",
        "\n",
        "gill-color\n",
        ": **k**\n",
        "\n",
        "stalk-shape\n",
        ": **e**\n",
        "\n",
        "stalk-root\n",
        ": **e**\n",
        "\n",
        "stalk-surface-above-ring\n",
        ": **s**\n",
        "\n",
        "stalk-surface-below-ring\n",
        ": **s**\n",
        "\n",
        "stalk-color-above-ring\n",
        ": **w**\n",
        "\n",
        "stalk-color-below-ring\n",
        ": **w**\n",
        "\n",
        "veil-type\n",
        ": **p**\n",
        "\n",
        "veil-color\n",
        ": **w**\n",
        "\n",
        "ring-number\n",
        ": **o**\n",
        "\n",
        "ring-type\n",
        ": **p**\n",
        "\n",
        "spore-print-color\n",
        ": **r**\n",
        "\n",
        "population\n",
        ": **s**\n",
        "\n",
        "habitat\n",
        ": **u**\n",
        "\n"
      ]
    },
    {
      "cell_type": "code",
      "metadata": {
        "id": "jaLW4bhtSGjh",
        "colab": {
          "base_uri": "https://localhost:8080/"
        },
        "outputId": "470f8933-8b77-4d37-8bcd-34adff5c3928"
      },
      "source": [
        "# Enter your code here\n",
        "mushroom_Classification = {'cap-shape_b' : [0],\n",
        "'cap-shape_c' : [0],\n",
        "'cap-shape_f' : [0],\n",
        "'cap-shape_k' : [0],\n",
        "'cap-shape_s' : [0],\n",
        "'cap-shape_x' : [1],\n",
        "'cap-surface_f' : [0],\n",
        "'cap-surface_g' : [0],\n",
        "'cap-surface_s' : [1],\n",
        "'cap-surface_y' : [0],\n",
        "'cap-color_b' : [0],\n",
        "'cap-color_c' : [0],\n",
        "'cap-color_e' : [0],\n",
        "'cap-color_g' : [0],\n",
        "'cap-color_n' : [1],\n",
        "'cap-color_p' : [0],\n",
        "'cap-color_r' : [0],\n",
        "'cap-color_u' : [0],\n",
        "'cap-color_w' : [0],\n",
        "'cap-color_y' : [0],\n",
        "'bruises_f' : [0],\n",
        "'bruises_t' : [1],\n",
        "'odor_a' : [0],\n",
        "'odor_c' : [0],\n",
        "'odor_f' : [0],\n",
        "'odor_l' : [0],\n",
        "'odor_m' : [0],\n",
        "'odor_n' : [0],\n",
        "'odor_p' : [0],\n",
        "'odor_s' : [0],\n",
        "'odor_y' : [1],\n",
        "'gill-attachment_a' : [0],\n",
        "'gill-attachment_f' : [1],\n",
        "'gill-spacing_c' : [1],\n",
        "'gill-spacing_w' : [0],\n",
        "'gill-size_b' : [0],\n",
        "'gill-size_n' : [1],\n",
        "'gill-color_b': [0],\n",
        "'gill-color_e': [0],\n",
        "'gill-color_g': [0],\n",
        "'gill-color_h': [0],\n",
        "'gill-color_k': [1],\n",
        "'gill-color_n': [0],\n",
        "'gill-color_o' : [0],\n",
        "'gill-color_p': [0],\n",
        "'gill-color_r': [0],\n",
        "'gill-color_u' : [0],\n",
        "'gill-color_w': [0],\n",
        "'gill-color_y': [0],\n",
        "'stalk-shape_e': [1],\n",
        "'stalk-shape_t': [0],\n",
        "'stalk-root_?': [0],\n",
        "'stalk-root_b': [0],\n",
        "'stalk-root_c': [0],\n",
        "'stalk-root_e': [1],\n",
        "'stalk-root_r': [0],\n",
        "'stalk-surface-above-ring_f': [0],\n",
        "'stalk-surface-above-ring_k': [0],\n",
        "'stalk-surface-above-ring_s': [1],\n",
        "'stalk-surface-above-ring_y': [0],\n",
        "'stalk-surface-below-ring_f': [0],\n",
        "'stalk-surface-below-ring_k': [0],\n",
        "'stalk-surface-below-ring_s': [0],\n",
        "'stalk-surface-below-ring_y': [0],\n",
        "'stalk-color-above-ring_b' : [0],\n",
        "'stalk-color-above-ring_c' : [0],\n",
        "'stalk-color-above-ring_e' : [0],\n",
        "'stalk-color-above-ring_g': [0],\n",
        "'stalk-color-above-ring_n': [0],\n",
        "'stalk-color-above-ring_o': [0],\n",
        "'stalk-color-above-ring_p': [0],\n",
        "'stalk-color-above-ring_w': [1],\n",
        "'stalk-color-above-ring_y': [0],\n",
        "'stalk-color-below-ring_b': [0],\n",
        "'stalk-color-below-ring_c': [0],\n",
        "'stalk-color-below-ring_e' : [0],\n",
        "'stalk-color-below-ring_g' : [0],\n",
        "'stalk-color-below-ring_n' : [0],\n",
        "'stalk-color-below-ring_o' : [0],\n",
        "'stalk-color-below-ring_p' : [0],\n",
        "'stalk-color-below-ring_w' : [1],\n",
        "'stalk-color-below-ring_y' : [0],\n",
        "'veil-type_p' : [1],\n",
        "'veil-color_n': [0],\n",
        "'veil-color_o': [0],\n",
        "'veil-color_w': [1],\n",
        "'veil-color_y' : [0],\n",
        "'ring-number_n' : [0],\n",
        "'ring-number_o' : [1],\n",
        "'ring-number_t' : [0],\n",
        "'ring-type_e' : [0],\n",
        "'ring-type_f' : [0],\n",
        "'ring-type_l' : [0],\n",
        "'ring-type_n' : [0],\n",
        "'ring-type_p' : [0],\n",
        "'spore-print-color_b' : [0],\n",
        "'spore-print-color_h' : [0],\n",
        "'spore-print-color_k' : [0],\n",
        "'spore-print-color_n' : [0],\n",
        "'spore-print-color_o' : [0],\n",
        "'spore-print-color_r' : [1],\n",
        "'spore-print-color_u' : [0],\n",
        "'spore-print-color_w' : [0],\n",
        "'spore-print-color_y' : [0],\n",
        "'population_a' : [0],\n",
        "'population_c' : [0],\n",
        "'population_n': [0],\n",
        "'population_s': [1],\n",
        "'population_v': [0],\n",
        "'population_y': [0],\n",
        "'habitat_d' : [0],\n",
        "'habitat_g' : [0],\n",
        "'habitat_l' : [0],\n",
        "'habitat_m' : [0],\n",
        "'habitat_p' : [0],\n",
        "'habitat_u' : [1],\n",
        "'habitat_w' : [0]} \n",
        "mushroom_Classification1 = pd.DataFrame(mushroom_Classification)\n",
        "print(dt.predict(mushroom_Classification1))\n",
        "print(\"The following mushroom is poisonous\")"
      ],
      "execution_count": 79,
      "outputs": [
        {
          "output_type": "stream",
          "text": [
            "['p']\n",
            "The following mushroom is poisonous\n"
          ],
          "name": "stdout"
        }
      ]
    }
  ]
}